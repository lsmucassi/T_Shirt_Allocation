{
 "metadata": {
  "language_info": {
   "codemirror_mode": {
    "name": "ipython",
    "version": 3
   },
   "file_extension": ".py",
   "mimetype": "text/x-python",
   "name": "python",
   "nbconvert_exporter": "python",
   "pygments_lexer": "ipython3",
   "version": "3.8.5-final"
  },
  "orig_nbformat": 2,
  "kernelspec": {
   "name": "python3",
   "display_name": "Python 3"
  }
 },
 "nbformat": 4,
 "nbformat_minor": 2,
 "cells": [
  {
   "source": [
    "# T-Shirt Allocations\n",
    "\n",
    "\n",
    "import libraries here\n"
   ],
   "cell_type": "markdown",
   "metadata": {}
  },
  {
   "cell_type": "code",
   "execution_count": 4,
   "metadata": {},
   "outputs": [],
   "source": [
    "import os\n",
    "import glob\n",
    "import pandas as pd\n"
   ]
  },
  {
   "source": [
    "Combine generated datasets to one csv dataset"
   ],
   "cell_type": "markdown",
   "metadata": {}
  },
  {
   "cell_type": "code",
   "execution_count": 6,
   "metadata": {},
   "outputs": [
    {
     "output_type": "stream",
     "name": "stdout",
     "text": [
      "Verify consolidated CSV file : consolidated.csv\n"
     ]
    }
   ],
   "source": [
    "csv_header = 'id,first_name,last_name,age,gender,t-shirt_size,colour,type,avatar'\n",
    "csv_out = 'consolidated.csv'\n",
    "\n",
    "csv_dir = os.getcwd()\n",
    "\n",
    "dir_tree = os.walk(csv_dir + '/dataset/')\n",
    "for dirpath, dirnames, filenames in dir_tree:\n",
    "   pass\n",
    "\n",
    "csv_list = []\n",
    "for file in filenames:\n",
    "   if file.endswith('.csv'):\n",
    "      csv_list.append(file)\n",
    "\n",
    "csv_merge = open(csv_out, 'w')\n",
    "csv_merge.write(csv_header)\n",
    "csv_merge.write('\\n')\n",
    "\n",
    "for file in csv_list:\n",
    "   csv_in = open(file)\n",
    "   for line in csv_in:\n",
    "      if line.startswith(csv_header):\n",
    "         continue\n",
    "      csv_merge.write(line)\n",
    "   csv_in.close()\n",
    "#    csv_merge.close()\n",
    "print('Verify consolidated CSV file : ' + csv_out)"
   ]
  },
  {
   "cell_type": "code",
   "execution_count": null,
   "metadata": {},
   "outputs": [],
   "source": []
  }
 ]
}